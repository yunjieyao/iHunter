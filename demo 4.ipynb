{
 "cells": [
  {
   "cell_type": "code",
   "execution_count": 1,
   "metadata": {},
   "outputs": [
    {
     "data": {
      "application/vnd.jupyter.widget-view+json": {
       "model_id": "7b988d4541d244288692f566ab331fa3",
       "version_major": 2,
       "version_minor": 0
      },
      "text/plain": [
       "HTML(value='         <h2>Hi, Welcome to iHunter</h2></font>', placeholder='Some HTML')"
      ]
     },
     "metadata": {},
     "output_type": "display_data"
    },
    {
     "data": {
      "application/vnd.jupyter.widget-view+json": {
       "model_id": "ab9d1c370b3448b5805789c63a186775",
       "version_major": 2,
       "version_minor": 0
      },
      "text/plain": [
       "Text(value='', description='Keyword:', layout=Layout(height='40px', width='45%'), placeholder='Software Engine…"
      ]
     },
     "metadata": {},
     "output_type": "display_data"
    },
    {
     "data": {
      "application/vnd.jupyter.widget-view+json": {
       "model_id": "14cb5c73826640b28f9a2f5b03bb6224",
       "version_major": 2,
       "version_minor": 0
      },
      "text/plain": [
       "SelectMultiple(description='Category', options=('Product Management', 'Data Science', 'Consulting', 'Academic'…"
      ]
     },
     "metadata": {},
     "output_type": "display_data"
    },
    {
     "data": {
      "application/vnd.jupyter.widget-view+json": {
       "model_id": "88bffad83f154c29a5fdf22ab35bb95b",
       "version_major": 2,
       "version_minor": 0
      },
      "text/plain": [
       "ToggleButtons(description='Location:', layout=Layout(height='40px', width='100%'), options=('All', 'In US', 'I…"
      ]
     },
     "metadata": {},
     "output_type": "display_data"
    },
    {
     "data": {
      "application/vnd.jupyter.widget-view+json": {
       "model_id": "3fa3f15426d946fa82a54ba94d4582b1",
       "version_major": 2,
       "version_minor": 0
      },
      "text/plain": [
       "ToggleButtons(description='Job Type:', layout=Layout(height='45px', width='80%'), options=('All', 'Full time',…"
      ]
     },
     "metadata": {},
     "output_type": "display_data"
    },
    {
     "data": {
      "application/vnd.jupyter.widget-view+json": {
       "model_id": "901ab12e8b914e959a539c4baf40331d",
       "version_major": 2,
       "version_minor": 0
      },
      "text/plain": [
       "RadioButtons(description='Posted Date:', layout=Layout(height='130px', width='80%'), options=('All', '< 2 week…"
      ]
     },
     "metadata": {},
     "output_type": "display_data"
    },
    {
     "data": {
      "application/vnd.jupyter.widget-view+json": {
       "model_id": "72463a0520f74aaea009119c5f8bd919",
       "version_major": 2,
       "version_minor": 0
      },
      "text/plain": [
       "SelectMultiple(description='Skills', layout=Layout(height='110px', width='30%'), options=('Python', 'Java', 'S…"
      ]
     },
     "metadata": {},
     "output_type": "display_data"
    },
    {
     "data": {
      "application/vnd.jupyter.widget-view+json": {
       "model_id": "72ffe0c2000a488b99b8c30a695d2a61",
       "version_major": 2,
       "version_minor": 0
      },
      "text/plain": [
       "Checkbox(value=False, description=\"I'm authorized to work in the US.\", layout=Layout(height='30px', width='50%…"
      ]
     },
     "metadata": {},
     "output_type": "display_data"
    },
    {
     "data": {
      "application/vnd.jupyter.widget-view+json": {
       "model_id": "0b20cf6d41b246929c25efd5f1c5e7dd",
       "version_major": 2,
       "version_minor": 0
      },
      "text/plain": [
       "Checkbox(value=False, description='I want to work remotely.', layout=Layout(height='40px', width='50%'))"
      ]
     },
     "metadata": {},
     "output_type": "display_data"
    },
    {
     "data": {
      "application/vnd.jupyter.widget-view+json": {
       "model_id": "4ae13e0146a54d59bb4a6166efcc9ba4",
       "version_major": 2,
       "version_minor": 0
      },
      "text/plain": [
       "HBox(children=(Button(style=ButtonStyle(button_color='white', font_weight='bold'), tooltip='Click me'), Button…"
      ]
     },
     "metadata": {},
     "output_type": "display_data"
    },
    {
     "data": {
      "text/html": [
       "<div>\n",
       "<style scoped>\n",
       "    .dataframe tbody tr th:only-of-type {\n",
       "        vertical-align: middle;\n",
       "    }\n",
       "\n",
       "    .dataframe tbody tr th {\n",
       "        vertical-align: top;\n",
       "    }\n",
       "\n",
       "    .dataframe thead th {\n",
       "        text-align: right;\n",
       "    }\n",
       "</style>\n",
       "<table border=\"1\" class=\"dataframe\">\n",
       "  <thead>\n",
       "    <tr style=\"text-align: right;\">\n",
       "      <th></th>\n",
       "      <th>Job Title</th>\n",
       "      <th>Company</th>\n",
       "      <th>Location</th>\n",
       "      <th>Description</th>\n",
       "    </tr>\n",
       "    <tr>\n",
       "      <th>ID</th>\n",
       "      <th></th>\n",
       "      <th></th>\n",
       "      <th></th>\n",
       "      <th></th>\n",
       "    </tr>\n",
       "  </thead>\n",
       "  <tbody>\n",
       "    <tr>\n",
       "      <th>9760</th>\n",
       "      <td>Database and Systems Engineer</td>\n",
       "      <td>Plexuss.com</td>\n",
       "      <td>Walnut Creek, CA</td>\n",
       "      <td>We are in search of a seasoned database and sy...</td>\n",
       "    </tr>\n",
       "    <tr>\n",
       "      <th>9749</th>\n",
       "      <td>Data Scientist</td>\n",
       "      <td>Moody's Analytics</td>\n",
       "      <td>San Francisco, CA</td>\n",
       "      <td>The Data Intelligence Team has a requirement f...</td>\n",
       "    </tr>\n",
       "    <tr>\n",
       "      <th>9748</th>\n",
       "      <td>Data Scientist</td>\n",
       "      <td>Uber Freight</td>\n",
       "      <td>San Francisco, CA</td>\n",
       "      <td>At Uber, we ignite opportunity by setting the ...</td>\n",
       "    </tr>\n",
       "  </tbody>\n",
       "</table>\n",
       "</div>"
      ],
      "text/plain": [
       "                          Job Title            Company           Location  \\\n",
       "ID                                                                          \n",
       "9760  Database and Systems Engineer        Plexuss.com   Walnut Creek, CA   \n",
       "9749                 Data Scientist  Moody's Analytics  San Francisco, CA   \n",
       "9748                 Data Scientist       Uber Freight  San Francisco, CA   \n",
       "\n",
       "                                            Description  \n",
       "ID                                                       \n",
       "9760  We are in search of a seasoned database and sy...  \n",
       "9749  The Data Intelligence Team has a requirement f...  \n",
       "9748  At Uber, we ignite opportunity by setting the ...  "
      ]
     },
     "metadata": {},
     "output_type": "display_data"
    }
   ],
   "source": [
    "#IPython is what you are using now to run the notebook\n",
    "import IPython\n",
    "# Pandas makes working with data tables easier\n",
    "import pandas as pd\n",
    "\n",
    "# Module for plotting\n",
    "import matplotlib as plt\n",
    "%matplotlib inline\n",
    "# A tool we'll use to aid our data exploration\n",
    "import itertools\n",
    "\n",
    "# read the data\n",
    "data = pd.read_excel('iHunter_Data.xlsx', index_col=1, skiprows=1)\n",
    "try:\n",
    "    data = data.iloc[:, 1:]\n",
    "except Exception:\n",
    "    data = data\n",
    "    \n",
    "import ipywidgets as widgets\n",
    "\n",
    "#out = widgets.Output(layout={'border': '2px solid black'})\n",
    "\n",
    "#with out:\n",
    "  #      print('Hi, Welcome to iHunter:)')\n",
    "    \n",
    "title = widgets.HTML(\n",
    "    value=\"         <h2>Hi, Welcome to iHunter</h2></font>\",\n",
    "    placeholder='Some HTML',\n",
    "    description='',\n",
    ")\n",
    "        \n",
    "keywords = widgets.Text(\n",
    "    placeholder='Software Engineer, Google, AR',\n",
    "    description='Keyword:',\n",
    "    layout=widgets.Layout(width='45%', height = '40px'),\n",
    "    font_size = 75\n",
    ")\n",
    "keywords.style.handle_color = 'lightblue'\n",
    "\n",
    "location = widgets.ToggleButtons(\n",
    "   options=['All', 'In US', 'In Bay Area', 'On Campus'],\n",
    "   description='Location:',\n",
    "   disabled=False,\n",
    "   layout=widgets.Layout(width='100%', height = '40px')\n",
    ")\n",
    "\n",
    "\n",
    "options=['Product Management', 'Data Science', 'Consulting', 'Academic', 'UX Design and Research',\n",
    "           'Policy','Engineering','Other']\n",
    "category = widgets.SelectMultiple(\n",
    "   options=options,\n",
    "   rows = len(options),\n",
    "   description='Category',\n",
    ")\n",
    "\n",
    "\n",
    "job_type = widgets.ToggleButtons(\n",
    "   options=['All', 'Full time', 'Internship', 'Contract'],\n",
    "   description='Job Type:',\n",
    "   tooltips=['Description of Full time', 'Description of Internship', 'Description of Contract'],\n",
    "   layout=widgets.Layout(width='80%', height = '45px')\n",
    ")\n",
    "\n",
    "posted_date = widgets.RadioButtons(\n",
    "   options = ['All', '< 2 weeks', '2 weeks ~ 1 month', '1 month ~ 3 months', '3 months ~ 6 months', '>6 months'],\n",
    "   description='Posted Date:',\n",
    "   disabled=False,\n",
    "   layout=widgets.Layout(width='80%', height = '130px')\n",
    ")\n",
    "\n",
    "skills = widgets.SelectMultiple(\n",
    "    options=['Python', 'Java','SQL','Web', 'Mobile', 'R'],\n",
    "    rows = len(['Python', 'Java','SQL','Web', 'Mobile', 'R']),\n",
    "    description='Skills',\n",
    "    layout=widgets.Layout(width='30%', height = '110px')\n",
    ")\n",
    "\n",
    "work_status = widgets.Checkbox(\n",
    "    value=False,\n",
    "    description='I\\'m authorized to work in the US.',\n",
    "    layout=widgets.Layout(width='50%', height = '30px')\n",
    ")\n",
    "\n",
    "remote_work = widgets.Checkbox(\n",
    "    value=False,\n",
    "    description='I want to work remotely.',\n",
    "    layout=widgets.Layout(width='50%', height = '40px')\n",
    ")\n",
    "\n",
    "\n",
    "submit_btn1 = widgets.Button(\n",
    "   description='',\n",
    "   disabled=False,\n",
    "   button_style='', # 'success', 'info', 'warning', 'danger' or ''\n",
    "   tooltip='Click me',\n",
    "   icon='',\n",
    "   visible=False\n",
    ")\n",
    "\n",
    "submit_btn1.style.button_color = 'white'\n",
    "submit_btn1.style.font_weight = 'bold'\n",
    "\n",
    "submit_btn2 = widgets.Button(\n",
    "   description='Search',\n",
    "   disabled=False,\n",
    "   button_style='', # 'success', 'info', 'warning', 'danger' or ''\n",
    "   tooltip='Click me',\n",
    "   icon='search'\n",
    ")\n",
    "submit_btn2.style.button_color = 'lightblue'\n",
    "submit_btn2.style.font_weight = 'bold'\n",
    "\n",
    "\n",
    "display(title,keywords, category, location, job_type, posted_date, skills, work_status, remote_work)\n",
    "display(widgets.HBox((submit_btn1, submit_btn2)))\n",
    "\n",
    "def getCategory(data):\n",
    "    res = []\n",
    "    for c in category.value:\n",
    "        res.append(data.loc[data[c] == True, :])\n",
    "    res = pd.concat(res)\n",
    "    return res\n",
    "\n",
    "def getJobType(data):\n",
    "    mapping = {'Full time': 'full-time',\n",
    "               'Contract' : 'contract',\n",
    "               'Internship':'internship'}\n",
    "    if job_type.value == 'All':\n",
    "        return data\n",
    "    else:\n",
    "        return data.loc[data['Type'] == mapping[job_type.value], :]\n",
    "\n",
    "def getPostedDate(data):\n",
    "    if posted_date.value == 'All':\n",
    "        return data\n",
    "    else:\n",
    "        return data.loc[data['Posted Period'] == posted_date.value, :]\n",
    "\n",
    "def getLocation(data):\n",
    "    if location.value == 'All':\n",
    "        return data\n",
    "    else:\n",
    "        return data.loc[data[location.value] == True, :]\n",
    "\n",
    "def getSkills(data):\n",
    "    res = []\n",
    "    for c in skills.value:\n",
    "        res.append(data.loc[data[c] == True, :])\n",
    "    res = pd.concat(res)\n",
    "    return res\n",
    "\n",
    "def getWorkStatus(data):\n",
    "    return data.loc[data['Required work status'] == False, :]\n",
    "\n",
    "def getRemoteWork(data):\n",
    "    return data.loc[data['Allowed Remote'] == True, :]\n",
    "\n",
    "def getKeyword(data):\n",
    "    all_keywords = keywords.value.split(',')\n",
    "    for idx, key in enumerate(all_keywords):\n",
    "        if idx == 0:\n",
    "            keyword_res = data.loc[data['Job Title'].str.contains(key,case=False, na=False) | \n",
    "                                        data['Company'].str.contains(key,case=False,na=False)|\n",
    "                                        data['Description'].str.contains(key,case=False,na=False),:]\n",
    "        else:\n",
    "            keyword_res = keyword_res.loc[data['Job Title'].str.contains(key,case=False, na=False) | \n",
    "                                        data['Company'].str.contains(key,case=False,na=False)|\n",
    "                                        data['Description'].str.contains(key,case=False,na=False),:]\n",
    "#             keyword_res.append(data.loc[data['Company'].str.contains(key,case=False,na=False),:])\n",
    "#             keyword_res.append(data.loc[data['Description'].str.contains(key,case=False,na=False),:])\n",
    "\n",
    "    return keyword_res\n",
    "    \n",
    "def on_button_clicked(b):\n",
    "    result = data.copy()\n",
    "    if keywords.value != '':\n",
    "        result = getKeyword(result)\n",
    "        #print(result)\n",
    "    if len(category.value) != 0:\n",
    "        result = getCategory(result)\n",
    "    result = getLocation(result)\n",
    "    result = getJobType(result)\n",
    "    result = getPostedDate(result)\n",
    "    if len(skills.value) != 0:\n",
    "        result = getSkills(result)\n",
    "    if work_status.value == False:\n",
    "        result = getWorkStatus(result)\n",
    "    if remote_work.value == True:\n",
    "        result = getRemoteWork(result)\n",
    "    result = result.iloc[:,1:5]\n",
    "    \n",
    "    display(result.drop_duplicates())\n",
    "submit_btn2.on_click(on_button_clicked)"
   ]
  },
  {
   "cell_type": "code",
   "execution_count": null,
   "metadata": {},
   "outputs": [],
   "source": []
  },
  {
   "cell_type": "code",
   "execution_count": null,
   "metadata": {},
   "outputs": [],
   "source": []
  }
 ],
 "metadata": {
  "kernelspec": {
   "display_name": "Python 3",
   "language": "python",
   "name": "python3"
  },
  "language_info": {
   "codemirror_mode": {
    "name": "ipython",
    "version": 3
   },
   "file_extension": ".py",
   "mimetype": "text/x-python",
   "name": "python",
   "nbconvert_exporter": "python",
   "pygments_lexer": "ipython3",
   "version": "3.7.0"
  }
 },
 "nbformat": 4,
 "nbformat_minor": 2
}
